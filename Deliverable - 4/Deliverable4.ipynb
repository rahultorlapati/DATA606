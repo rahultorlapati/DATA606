{
 "cells": [
  {
   "cell_type": "code",
   "execution_count": 2,
   "metadata": {},
   "outputs": [],
   "source": [
    "import os\n",
    "os.environ[\"KERAS_BACKEND\"] = \"plaidml.keras.backend\""
   ]
  },
  {
   "cell_type": "code",
   "execution_count": 3,
   "metadata": {},
   "outputs": [],
   "source": [
    "import numpy as np\n",
    "import cv2\n",
    "import pandas as pd\n",
    "from tqdm.notebook import tqdm \n",
    "from sklearn.model_selection import train_test_split\n",
    "import tensorflow\n",
    "from tensorflow import keras\n",
    "from tensorflow.keras.preprocessing.image import ImageDataGenerator\n",
    "from tensorflow.keras import layers\n",
    "from tensorflow.keras.applications import DenseNet121\n",
    "from tensorflow.keras.callbacks import ModelCheckpoint\n",
    "from tensorflow.keras.callbacks import Callback\n",
    "from tensorflow.keras.models import Sequential\n",
    "from tensorflow.keras.optimizers import Adam \n",
    "\n",
    "import torch\n",
    "import torch.nn as nn\n",
    "import torch.nn.functional as F\n",
    "import torchvision \n",
    "from torchvision import transforms\n",
    "from torch.utils.data import Dataset, DataLoader\n",
    "\n",
    "from sklearn.metrics import accuracy_score\n",
    "from sklearn.metrics import f1_score\n",
    "\n",
    "import time"
   ]
  },
  {
   "cell_type": "code",
   "execution_count": 4,
   "metadata": {},
   "outputs": [],
   "source": [
    "from PIL import ImageFile\n",
    "ImageFile.LOAD_TRUNCATED_IMAGES = True"
   ]
  },
  {
   "cell_type": "code",
   "execution_count": 5,
   "metadata": {},
   "outputs": [
    {
     "data": {
      "application/vnd.jupyter.widget-view+json": {
       "model_id": "4f5f0feb3e7f4492a1bffacf5366660d",
       "version_major": 2,
       "version_minor": 0
      },
      "text/plain": [
       "HBox(children=(FloatProgress(value=1.0, bar_style='info', max=1.0), HTML(value='')))"
      ]
     },
     "metadata": {},
     "output_type": "display_data"
    },
    {
     "name": "stdout",
     "output_type": "stream",
     "text": [
      "\n"
     ]
    }
   ],
   "source": [
    "original_fake_paths = []\n",
    "\n",
    "for dirname, _, filenames in tqdm(os.walk('/Users/rahultorlapati/Downloads/Semester 4/DATA 606/Datasets/untitled folder/fake')):\n",
    "    for filename in filenames:\n",
    "        original_fake_paths.append([os.path.join(dirname, filename)])"
   ]
  },
  {
   "cell_type": "code",
   "execution_count": 6,
   "metadata": {},
   "outputs": [
    {
     "data": {
      "text/plain": [
       "10001"
      ]
     },
     "execution_count": 6,
     "metadata": {},
     "output_type": "execute_result"
    }
   ],
   "source": [
    "len(original_fake_paths)"
   ]
  },
  {
   "cell_type": "code",
   "execution_count": 7,
   "metadata": {},
   "outputs": [],
   "source": [
    "train_fake_paths, test_fake_paths = train_test_split(original_fake_paths, test_size=2000, random_state=2019)\n",
    "\n",
    "fake_train_df = pd.DataFrame(train_fake_paths, columns=['filename'])\n",
    "fake_train_df['class'] = 'FAKE'\n",
    "\n",
    "fake_test_df = pd.DataFrame(test_fake_paths, columns=['filename'])\n",
    "fake_test_df['class'] = 'FAKE'"
   ]
  },
  {
   "cell_type": "code",
   "execution_count": 8,
   "metadata": {},
   "outputs": [
    {
     "data": {
      "application/vnd.jupyter.widget-view+json": {
       "model_id": "cc358202184649198c82c2a5af083dc2",
       "version_major": 2,
       "version_minor": 0
      },
      "text/plain": [
       "HBox(children=(FloatProgress(value=1.0, bar_style='info', max=1.0), HTML(value='')))"
      ]
     },
     "metadata": {},
     "output_type": "display_data"
    },
    {
     "name": "stdout",
     "output_type": "stream",
     "text": [
      "\n"
     ]
    }
   ],
   "source": [
    "original_real_paths = []\n",
    "\n",
    "for dirname, _, filenames in tqdm(os.walk('/Users/rahultorlapati/Downloads/Semester 4/DATA 606/Datasets/untitled folder/real')):\n",
    "    for filename in filenames:\n",
    "        original_real_paths.append([os.path.join(dirname, filename)])"
   ]
  },
  {
   "cell_type": "code",
   "execution_count": 9,
   "metadata": {},
   "outputs": [],
   "source": [
    "original_real_paths = original_real_paths[0:10001]"
   ]
  },
  {
   "cell_type": "code",
   "execution_count": 10,
   "metadata": {},
   "outputs": [],
   "source": [
    "train_real_paths, test_real_paths = train_test_split(original_real_paths, test_size=2000, random_state=2019)\n",
    "\n",
    "real_train_df = pd.DataFrame(train_real_paths, columns=['filename'])\n",
    "real_train_df['class'] = 'REAL'\n",
    "\n",
    "real_test_df = pd.DataFrame(test_real_paths, columns=['filename'])\n",
    "real_test_df['class'] = 'REAL'"
   ]
  },
  {
   "cell_type": "code",
   "execution_count": 11,
   "metadata": {},
   "outputs": [],
   "source": [
    "train_df = pd.concat([real_train_df, fake_train_df])\n",
    "test_df = pd.concat([real_test_df, fake_test_df])"
   ]
  },
  {
   "cell_type": "code",
   "execution_count": 12,
   "metadata": {},
   "outputs": [],
   "source": [
    "df = pd.concat([train_df, test_df])"
   ]
  },
  {
   "cell_type": "code",
   "execution_count": 13,
   "metadata": {},
   "outputs": [
    {
     "name": "stdout",
     "output_type": "stream",
     "text": [
      "Found 16001 validated image filenames belonging to 2 classes.\n",
      "Found 4000 validated image filenames belonging to 2 classes.\n"
     ]
    },
    {
     "name": "stderr",
     "output_type": "stream",
     "text": [
      "/opt/anaconda3/lib/python3.7/site-packages/keras_preprocessing/image/dataframe_iterator.py:273: UserWarning: Found 1 invalid image filename(s) in x_col=\"filename\". These filename(s) will be ignored.\n",
      "  .format(n_invalid, x_col)\n"
     ]
    }
   ],
   "source": [
    "datagen = ImageDataGenerator(rescale=1./255, validation_split=0.2)\n",
    "\n",
    "train_gen = datagen.flow_from_dataframe(\n",
    "    df,\n",
    "    target_size=(224, 224),\n",
    "    batch_size=64,\n",
    "    class_mode='binary',\n",
    "    subset='training'\n",
    ")\n",
    "\n",
    "val_gen = datagen.flow_from_dataframe(\n",
    "    df,\n",
    "    target_size=(224, 224),\n",
    "    batch_size=64,\n",
    "    class_mode='binary',\n",
    "    subset='validation'\n",
    ")"
   ]
  },
  {
   "cell_type": "code",
   "execution_count": 13,
   "metadata": {},
   "outputs": [],
   "source": [
    "from tensorflow.keras.layers import Conv2D, Flatten, MaxPooling2D, Dropout, BatchNormalization, GlobalAveragePooling2D"
   ]
  },
  {
   "cell_type": "code",
   "execution_count": 14,
   "metadata": {},
   "outputs": [],
   "source": [
    "from tensorflow.keras.models import Sequential\n",
    "from tensorflow.keras.layers import Dense, Conv2D, Flatten, MaxPooling2D, Dropout\n",
    "\n",
    "model = tensorflow.keras.Sequential()\n",
    "model.add(Conv2D(64, kernel_size=3, activation='relu', input_shape=(224,224,3)))\n",
    "model.add(Conv2D(32, kernel_size=3, activation='relu'))\n",
    "model.add(Flatten())\n",
    "model.add(Dense(2, activation='softmax'))"
   ]
  },
  {
   "cell_type": "code",
   "execution_count": 15,
   "metadata": {},
   "outputs": [],
   "source": [
    "model.compile(optimizer='adam', loss='sparse_categorical_crossentropy', metrics=['accuracy'])"
   ]
  },
  {
   "cell_type": "code",
   "execution_count": 16,
   "metadata": {},
   "outputs": [
    {
     "name": "stdout",
     "output_type": "stream",
     "text": [
      "Model: \"sequential\"\n",
      "_________________________________________________________________\n",
      "Layer (type)                 Output Shape              Param #   \n",
      "=================================================================\n",
      "conv2d (Conv2D)              (None, 222, 222, 64)      1792      \n",
      "_________________________________________________________________\n",
      "conv2d_1 (Conv2D)            (None, 220, 220, 32)      18464     \n",
      "_________________________________________________________________\n",
      "flatten (Flatten)            (None, 1548800)           0         \n",
      "_________________________________________________________________\n",
      "dense (Dense)                (None, 2)                 3097602   \n",
      "=================================================================\n",
      "Total params: 3,117,858\n",
      "Trainable params: 3,117,858\n",
      "Non-trainable params: 0\n",
      "_________________________________________________________________\n"
     ]
    }
   ],
   "source": [
    "model.summary()"
   ]
  },
  {
   "cell_type": "code",
   "execution_count": 17,
   "metadata": {},
   "outputs": [
    {
     "name": "stdout",
     "output_type": "stream",
     "text": [
      "WARNING:tensorflow:From <ipython-input-17-52e97f15aac7>:6: Model.fit_generator (from tensorflow.python.keras.engine.training) is deprecated and will be removed in a future version.\n",
      "Instructions for updating:\n",
      "Please use Model.fit, which supports generators.\n",
      "Epoch 1/7\n",
      "251/251 [==============================] - 710s 3s/step - loss: 0.2197 - accuracy: 0.9721 - val_loss: 0.0525 - val_accuracy: 0.9815\n",
      "Epoch 2/7\n",
      "251/251 [==============================] - 718s 3s/step - loss: 0.0015 - accuracy: 0.9996 - val_loss: 0.0082 - val_accuracy: 0.9977\n",
      "Epoch 3/7\n",
      "251/251 [==============================] - 763s 3s/step - loss: 0.0011 - accuracy: 0.9997 - val_loss: 0.0068 - val_accuracy: 0.9977\n",
      "Epoch 4/7\n",
      "251/251 [==============================] - 802s 3s/step - loss: 9.2370e-05 - accuracy: 1.0000 - val_loss: 0.0066 - val_accuracy: 0.9977\n",
      "Epoch 5/7\n",
      "251/251 [==============================] - 776s 3s/step - loss: 1.8363e-05 - accuracy: 1.0000 - val_loss: 0.0049 - val_accuracy: 0.9987\n",
      "Epoch 6/7\n",
      "251/251 [==============================] - 795s 3s/step - loss: 1.0603e-05 - accuracy: 1.0000 - val_loss: 0.0052 - val_accuracy: 0.9985\n",
      "Epoch 7/7\n",
      "251/251 [==============================] - 772s 3s/step - loss: 7.5399e-06 - accuracy: 1.0000 - val_loss: 0.0047 - val_accuracy: 0.9985\n"
     ]
    }
   ],
   "source": [
    "train_history_step1 = model.fit_generator(\n",
    "    train_gen,\n",
    "    validation_data=val_gen,\n",
    "    steps_per_epoch=len(train_gen),\n",
    "    validation_steps=len(val_gen),\n",
    "    epochs = 7,\n",
    ")"
   ]
  },
  {
   "cell_type": "code",
   "execution_count": 18,
   "metadata": {},
   "outputs": [],
   "source": [
    "model1 = tensorflow.keras.Sequential()\n",
    "model1.add(Conv2D(32, kernel_size=(3, 3),activation='relu',input_shape=(224,224,3)))\n",
    "model1.add(Conv2D(64, (3, 3), activation='relu'))\n",
    "model1.add(MaxPooling2D(pool_size=(2, 2)))\n",
    "model1.add(Dropout(0.25))\n",
    "model1.add(Flatten())\n",
    "model1.add(Dense(128, activation='relu'))\n",
    "model1.add(Dropout(0.5))\n",
    "model1.add(Dense(2, activation='softmax'))"
   ]
  },
  {
   "cell_type": "code",
   "execution_count": 19,
   "metadata": {},
   "outputs": [],
   "source": [
    "model1.compile(optimizer='adam', loss='sparse_categorical_crossentropy', metrics=['accuracy'])"
   ]
  },
  {
   "cell_type": "code",
   "execution_count": 20,
   "metadata": {},
   "outputs": [
    {
     "name": "stdout",
     "output_type": "stream",
     "text": [
      "Model: \"sequential_1\"\n",
      "_________________________________________________________________\n",
      "Layer (type)                 Output Shape              Param #   \n",
      "=================================================================\n",
      "conv2d_2 (Conv2D)            (None, 222, 222, 32)      896       \n",
      "_________________________________________________________________\n",
      "conv2d_3 (Conv2D)            (None, 220, 220, 64)      18496     \n",
      "_________________________________________________________________\n",
      "max_pooling2d (MaxPooling2D) (None, 110, 110, 64)      0         \n",
      "_________________________________________________________________\n",
      "dropout (Dropout)            (None, 110, 110, 64)      0         \n",
      "_________________________________________________________________\n",
      "flatten_1 (Flatten)          (None, 774400)            0         \n",
      "_________________________________________________________________\n",
      "dense_1 (Dense)              (None, 128)               99123328  \n",
      "_________________________________________________________________\n",
      "dropout_1 (Dropout)          (None, 128)               0         \n",
      "_________________________________________________________________\n",
      "dense_2 (Dense)              (None, 2)                 258       \n",
      "=================================================================\n",
      "Total params: 99,142,978\n",
      "Trainable params: 99,142,978\n",
      "Non-trainable params: 0\n",
      "_________________________________________________________________\n"
     ]
    }
   ],
   "source": [
    "model1.summary()"
   ]
  },
  {
   "cell_type": "code",
   "execution_count": 21,
   "metadata": {},
   "outputs": [
    {
     "name": "stdout",
     "output_type": "stream",
     "text": [
      "Epoch 1/7\n",
      "251/251 [==============================] - 746s 3s/step - loss: 0.4098 - accuracy: 0.9687 - val_loss: 0.0179 - val_accuracy: 0.9930\n",
      "Epoch 2/7\n",
      "251/251 [==============================] - 750s 3s/step - loss: 0.0031 - accuracy: 0.9993 - val_loss: 0.0143 - val_accuracy: 0.9960\n",
      "Epoch 3/7\n",
      "251/251 [==============================] - 671s 3s/step - loss: 0.0021 - accuracy: 0.9992 - val_loss: 0.0024 - val_accuracy: 0.9987\n",
      "Epoch 4/7\n",
      "251/251 [==============================] - 716s 3s/step - loss: 0.0040 - accuracy: 0.9989 - val_loss: 0.0080 - val_accuracy: 0.9973\n",
      "Epoch 5/7\n",
      "251/251 [==============================] - 739s 3s/step - loss: 0.0048 - accuracy: 0.9985 - val_loss: 0.0096 - val_accuracy: 0.9962\n",
      "Epoch 6/7\n",
      "251/251 [==============================] - 723s 3s/step - loss: 0.0050 - accuracy: 0.9985 - val_loss: 0.0185 - val_accuracy: 0.9933\n",
      "Epoch 7/7\n",
      "251/251 [==============================] - 730s 3s/step - loss: 0.0014 - accuracy: 0.9997 - val_loss: 0.0051 - val_accuracy: 0.9977\n"
     ]
    }
   ],
   "source": [
    "train_history_step2 = model1.fit_generator(\n",
    "    train_gen,\n",
    "    validation_data=val_gen,\n",
    "    steps_per_epoch=len(train_gen),\n",
    "    validation_steps=len(val_gen),\n",
    "    epochs=7\n",
    ")"
   ]
  },
  {
   "cell_type": "code",
   "execution_count": 22,
   "metadata": {},
   "outputs": [],
   "source": [
    "densenet = DenseNet121(\n",
    "    weights='imagenet',\n",
    "    include_top=False,\n",
    "    input_shape=(224,224,3)\n",
    ")\n",
    "\n",
    "for layer in densenet.layers:\n",
    "    layer.trainable = False"
   ]
  },
  {
   "cell_type": "code",
   "execution_count": 23,
   "metadata": {},
   "outputs": [],
   "source": [
    "def build_model(densenet):\n",
    "    model = tensorflow.keras.Sequential()\n",
    "    model.add(densenet)\n",
    "    model.add(layers.GlobalAveragePooling2D())\n",
    "    model.add(layers.BatchNormalization())\n",
    "    model.add(layers.Dropout(0.5))\n",
    "    \n",
    "    model.add(layers.Dense(256, activation='relu'))\n",
    "    model.add(layers.BatchNormalization())\n",
    "    model.add(layers.Dropout(0.5))\n",
    "    \n",
    "    model.add(layers.Dense(1, activation='sigmoid'))\n",
    "    \n",
    "    model.compile(\n",
    "        loss='binary_crossentropy',\n",
    "        optimizer=Adam(lr=0.0005),\n",
    "        metrics=['accuracy']\n",
    "    )\n",
    "    \n",
    "    return model"
   ]
  },
  {
   "cell_type": "code",
   "execution_count": 24,
   "metadata": {},
   "outputs": [
    {
     "name": "stdout",
     "output_type": "stream",
     "text": [
      "Model: \"sequential_2\"\n",
      "_________________________________________________________________\n",
      "Layer (type)                 Output Shape              Param #   \n",
      "=================================================================\n",
      "densenet121 (Model)          (None, 7, 7, 1024)        7037504   \n",
      "_________________________________________________________________\n",
      "global_average_pooling2d (Gl (None, 1024)              0         \n",
      "_________________________________________________________________\n",
      "batch_normalization (BatchNo (None, 1024)              4096      \n",
      "_________________________________________________________________\n",
      "dropout_2 (Dropout)          (None, 1024)              0         \n",
      "_________________________________________________________________\n",
      "dense_3 (Dense)              (None, 256)               262400    \n",
      "_________________________________________________________________\n",
      "batch_normalization_1 (Batch (None, 256)               1024      \n",
      "_________________________________________________________________\n",
      "dropout_3 (Dropout)          (None, 256)               0         \n",
      "_________________________________________________________________\n",
      "dense_4 (Dense)              (None, 1)                 257       \n",
      "=================================================================\n",
      "Total params: 7,305,281\n",
      "Trainable params: 265,217\n",
      "Non-trainable params: 7,040,064\n",
      "_________________________________________________________________\n"
     ]
    }
   ],
   "source": [
    "model2 = build_model(densenet)\n",
    "model2.summary()"
   ]
  },
  {
   "cell_type": "code",
   "execution_count": 25,
   "metadata": {},
   "outputs": [
    {
     "name": "stdout",
     "output_type": "stream",
     "text": [
      "Epoch 1/7\n",
      "251/251 [==============================] - 869s 3s/step - loss: 0.0672 - accuracy: 0.9743 - val_loss: 0.0094 - val_accuracy: 0.9987\n",
      "Epoch 2/7\n",
      "251/251 [==============================] - 840s 3s/step - loss: 0.0118 - accuracy: 0.9968 - val_loss: 0.0020 - val_accuracy: 0.9992\n",
      "Epoch 3/7\n",
      "251/251 [==============================] - 829s 3s/step - loss: 0.0089 - accuracy: 0.9971 - val_loss: 9.3182e-04 - val_accuracy: 0.9998\n",
      "Epoch 4/7\n",
      "251/251 [==============================] - 823s 3s/step - loss: 0.0042 - accuracy: 0.9988 - val_loss: 2.6615e-04 - val_accuracy: 1.0000\n",
      "Epoch 5/7\n",
      "251/251 [==============================] - 829s 3s/step - loss: 0.0039 - accuracy: 0.9989 - val_loss: 3.0940e-04 - val_accuracy: 1.0000\n",
      "Epoch 6/7\n",
      "251/251 [==============================] - 829s 3s/step - loss: 0.0035 - accuracy: 0.9990 - val_loss: 2.0069e-04 - val_accuracy: 1.0000\n",
      "Epoch 7/7\n",
      "251/251 [==============================] - 831s 3s/step - loss: 0.0040 - accuracy: 0.9988 - val_loss: 2.5472e-04 - val_accuracy: 1.0000\n"
     ]
    }
   ],
   "source": [
    "train_history_step3 = model2.fit_generator(\n",
    "    train_gen,\n",
    "    validation_data=val_gen,\n",
    "    steps_per_epoch=len(train_gen),\n",
    "    validation_steps=len(val_gen),\n",
    "    epochs=7\n",
    ")"
   ]
  },
  {
   "cell_type": "code",
   "execution_count": 26,
   "metadata": {},
   "outputs": [],
   "source": [
    "resnet = keras.applications.resnet50.ResNet50(\n",
    "    weights='imagenet',\n",
    "    include_top=False,\n",
    "    input_shape=(224,224,3)\n",
    ")\n",
    "\n",
    "for layer in resnet.layers:\n",
    "    layer.trainable = False"
   ]
  },
  {
   "cell_type": "code",
   "execution_count": 27,
   "metadata": {},
   "outputs": [],
   "source": [
    "def build_model(resnet):\n",
    "    model = tensorflow.keras.Sequential()\n",
    "    model.add(resnet)\n",
    "    model.add(layers.GlobalAveragePooling2D())\n",
    "    model.add(layers.BatchNormalization())\n",
    "    model.add(layers.Dropout(0.5))\n",
    "    \n",
    "    model.add(layers.Dense(256, activation='relu'))\n",
    "    model.add(layers.BatchNormalization())\n",
    "    model.add(layers.Dropout(0.5))\n",
    "    \n",
    "    model.add(layers.Dense(1, activation='sigmoid'))\n",
    "    \n",
    "    model.compile(\n",
    "        loss='binary_crossentropy',\n",
    "        optimizer=Adam(lr=0.0005),\n",
    "        metrics=['accuracy']\n",
    "    )\n",
    "    \n",
    "    return model"
   ]
  },
  {
   "cell_type": "code",
   "execution_count": 28,
   "metadata": {},
   "outputs": [
    {
     "name": "stdout",
     "output_type": "stream",
     "text": [
      "Model: \"sequential_3\"\n",
      "_________________________________________________________________\n",
      "Layer (type)                 Output Shape              Param #   \n",
      "=================================================================\n",
      "resnet50 (Model)             (None, 7, 7, 2048)        23587712  \n",
      "_________________________________________________________________\n",
      "global_average_pooling2d_1 ( (None, 2048)              0         \n",
      "_________________________________________________________________\n",
      "batch_normalization_2 (Batch (None, 2048)              8192      \n",
      "_________________________________________________________________\n",
      "dropout_4 (Dropout)          (None, 2048)              0         \n",
      "_________________________________________________________________\n",
      "dense_5 (Dense)              (None, 256)               524544    \n",
      "_________________________________________________________________\n",
      "batch_normalization_3 (Batch (None, 256)               1024      \n",
      "_________________________________________________________________\n",
      "dropout_5 (Dropout)          (None, 256)               0         \n",
      "_________________________________________________________________\n",
      "dense_6 (Dense)              (None, 1)                 257       \n",
      "=================================================================\n",
      "Total params: 24,121,729\n",
      "Trainable params: 529,409\n",
      "Non-trainable params: 23,592,320\n",
      "_________________________________________________________________\n"
     ]
    }
   ],
   "source": [
    "model3 = build_model(resnet)\n",
    "model3.summary()"
   ]
  },
  {
   "cell_type": "code",
   "execution_count": 29,
   "metadata": {},
   "outputs": [
    {
     "name": "stdout",
     "output_type": "stream",
     "text": [
      "Epoch 1/7\n",
      "251/251 [==============================] - 577s 2s/step - loss: 0.3237 - accuracy: 0.8700 - val_loss: 1.1707 - val_accuracy: 0.0428\n",
      "Epoch 2/7\n",
      "251/251 [==============================] - 579s 2s/step - loss: 0.2130 - accuracy: 0.9184 - val_loss: 0.5699 - val_accuracy: 0.6975\n",
      "Epoch 3/7\n",
      "251/251 [==============================] - 575s 2s/step - loss: 0.1944 - accuracy: 0.9236 - val_loss: 0.1792 - val_accuracy: 0.9335\n",
      "Epoch 4/7\n",
      "251/251 [==============================] - 578s 2s/step - loss: 0.1717 - accuracy: 0.9317 - val_loss: 0.1660 - val_accuracy: 0.9327\n",
      "Epoch 5/7\n",
      "251/251 [==============================] - 574s 2s/step - loss: 0.1619 - accuracy: 0.9383 - val_loss: 0.1199 - val_accuracy: 0.9525\n",
      "Epoch 6/7\n",
      "251/251 [==============================] - 581s 2s/step - loss: 0.1474 - accuracy: 0.9433 - val_loss: 0.1372 - val_accuracy: 0.9442\n",
      "Epoch 7/7\n",
      "251/251 [==============================] - 578s 2s/step - loss: 0.1600 - accuracy: 0.9391 - val_loss: 0.1152 - val_accuracy: 0.9525\n"
     ]
    }
   ],
   "source": [
    "train_history_step4 = model3.fit_generator(\n",
    "    train_gen,\n",
    "    validation_data=val_gen,\n",
    "    steps_per_epoch=len(train_gen),\n",
    "    validation_steps=len(val_gen),\n",
    "    epochs=7\n",
    ")"
   ]
  },
  {
   "cell_type": "code",
   "execution_count": 14,
   "metadata": {},
   "outputs": [],
   "source": [
    "xception = tensorflow.keras.applications.Xception(\n",
    "    include_top=False,\n",
    "    weights=\"imagenet\",\n",
    "    input_shape=(224,224,3)\n",
    ")\n",
    "\n",
    "for layer in xception.layers:\n",
    "    layer.trainable = False"
   ]
  },
  {
   "cell_type": "code",
   "execution_count": 15,
   "metadata": {},
   "outputs": [],
   "source": [
    "def build_model(xception):\n",
    "    model = tensorflow.keras.Sequential()\n",
    "    model.add(xception)\n",
    "    model.add(layers.GlobalAveragePooling2D())\n",
    "    model.add(layers.BatchNormalization())\n",
    "    model.add(layers.Dropout(0.5))\n",
    "    model.add(layers.BatchNormalization())\n",
    "    model.add(layers.Dropout(0.5))\n",
    "    \n",
    "    model.add(layers.Dense(1, activation='sigmoid'))\n",
    "    \n",
    "    model.compile(\n",
    "        loss='binary_crossentropy',\n",
    "        optimizer=Adam(lr=0.0005),\n",
    "        metrics=['accuracy']\n",
    "    )\n",
    "    \n",
    "    return model"
   ]
  },
  {
   "cell_type": "code",
   "execution_count": 16,
   "metadata": {},
   "outputs": [
    {
     "name": "stdout",
     "output_type": "stream",
     "text": [
      "Model: \"sequential\"\n",
      "_________________________________________________________________\n",
      "Layer (type)                 Output Shape              Param #   \n",
      "=================================================================\n",
      "xception (Model)             (None, 7, 7, 2048)        20861480  \n",
      "_________________________________________________________________\n",
      "global_average_pooling2d (Gl (None, 2048)              0         \n",
      "_________________________________________________________________\n",
      "batch_normalization_4 (Batch (None, 2048)              8192      \n",
      "_________________________________________________________________\n",
      "dropout (Dropout)            (None, 2048)              0         \n",
      "_________________________________________________________________\n",
      "batch_normalization_5 (Batch (None, 2048)              8192      \n",
      "_________________________________________________________________\n",
      "dropout_1 (Dropout)          (None, 2048)              0         \n",
      "_________________________________________________________________\n",
      "dense (Dense)                (None, 1)                 2049      \n",
      "=================================================================\n",
      "Total params: 20,879,913\n",
      "Trainable params: 10,241\n",
      "Non-trainable params: 20,869,672\n",
      "_________________________________________________________________\n"
     ]
    }
   ],
   "source": [
    "model4 = build_model(xception)\n",
    "model4.summary()"
   ]
  },
  {
   "cell_type": "code",
   "execution_count": 17,
   "metadata": {},
   "outputs": [
    {
     "name": "stdout",
     "output_type": "stream",
     "text": [
      "WARNING:tensorflow:From <ipython-input-17-c6c5f0b04490>:6: Model.fit_generator (from tensorflow.python.keras.engine.training) is deprecated and will be removed in a future version.\n",
      "Instructions for updating:\n",
      "Please use Model.fit, which supports generators.\n",
      "Epoch 1/7\n",
      "251/251 [==============================] - 535s 2s/step - loss: 0.2106 - accuracy: 0.9149 - val_loss: 0.1659 - val_accuracy: 0.9655\n",
      "Epoch 2/7\n",
      "251/251 [==============================] - 521s 2s/step - loss: 0.0683 - accuracy: 0.9759 - val_loss: 0.0316 - val_accuracy: 0.9930\n",
      "Epoch 3/7\n",
      "251/251 [==============================] - 518s 2s/step - loss: 0.0450 - accuracy: 0.9844 - val_loss: 0.0170 - val_accuracy: 0.9952\n",
      "Epoch 4/7\n",
      "251/251 [==============================] - 518s 2s/step - loss: 0.0391 - accuracy: 0.9869 - val_loss: 0.0119 - val_accuracy: 0.9973\n",
      "Epoch 5/7\n",
      "251/251 [==============================] - 546s 2s/step - loss: 0.0338 - accuracy: 0.9882 - val_loss: 0.0111 - val_accuracy: 0.9962\n",
      "Epoch 6/7\n",
      "251/251 [==============================] - 792s 3s/step - loss: 0.0328 - accuracy: 0.9881 - val_loss: 0.0091 - val_accuracy: 0.9970\n",
      "Epoch 7/7\n",
      "251/251 [==============================] - 564s 2s/step - loss: 0.0293 - accuracy: 0.9902 - val_loss: 0.0084 - val_accuracy: 0.9980\n"
     ]
    }
   ],
   "source": [
    "train_history_step5 = model4.fit_generator(\n",
    "    train_gen,\n",
    "    validation_data=val_gen,\n",
    "    steps_per_epoch=len(train_gen),\n",
    "    validation_steps=len(val_gen),\n",
    "    epochs=7\n",
    ")"
   ]
  },
  {
   "cell_type": "code",
   "execution_count": 91,
   "metadata": {},
   "outputs": [],
   "source": [
    "data = train_history_step5.history['val_loss']"
   ]
  },
  {
   "cell_type": "code",
   "execution_count": 92,
   "metadata": {},
   "outputs": [
    {
     "data": {
      "text/plain": [
       "[0.16594697535037994,\n",
       " 0.031580112874507904,\n",
       " 0.01696157455444336,\n",
       " 0.01188588049262762,\n",
       " 0.011069701053202152,\n",
       " 0.00906087551265955,\n",
       " 0.008440283127129078]"
      ]
     },
     "execution_count": 92,
     "metadata": {},
     "output_type": "execute_result"
    }
   ],
   "source": [
    "data"
   ]
  },
  {
   "cell_type": "code",
   "execution_count": 64,
   "metadata": {},
   "outputs": [],
   "source": [
    "l1 = [0.0525, 0.0082, 0.0068, 0.0066, 0.0049, 0.0052, 0.0047]\n",
    "l2 = [0.0179, 0.0143, 0.0024, 0.0080, 0.0096, 0.0185, 0.0051]\n",
    "l3 = [0.0094, 0.0020, 9.3183e-04, 2.6615e-04, 3.0940e-04, 2.0069e-04, 2.5472e-04]\n",
    "l4 = [1.1707, 0.5699, 0.1792, 0.1660, 0.1199, 0.1372, 0.1152]"
   ]
  },
  {
   "cell_type": "code",
   "execution_count": 93,
   "metadata": {},
   "outputs": [],
   "source": [
    "df =pd.DataFrame([l1,l2,l3,l4,data])"
   ]
  },
  {
   "cell_type": "code",
   "execution_count": 97,
   "metadata": {},
   "outputs": [],
   "source": [
    "df1.columns = ['SimpleCNN', 'ComplexCNN', 'DenseNet121', 'ResNet50', 'Xecption']"
   ]
  },
  {
   "cell_type": "code",
   "execution_count": 98,
   "metadata": {},
   "outputs": [
    {
     "data": {
      "text/html": [
       "<div>\n",
       "<style scoped>\n",
       "    .dataframe tbody tr th:only-of-type {\n",
       "        vertical-align: middle;\n",
       "    }\n",
       "\n",
       "    .dataframe tbody tr th {\n",
       "        vertical-align: top;\n",
       "    }\n",
       "\n",
       "    .dataframe thead th {\n",
       "        text-align: right;\n",
       "    }\n",
       "</style>\n",
       "<table border=\"1\" class=\"dataframe\">\n",
       "  <thead>\n",
       "    <tr style=\"text-align: right;\">\n",
       "      <th></th>\n",
       "      <th>SimpleCNN</th>\n",
       "      <th>ComplexCNN</th>\n",
       "      <th>DenseNet121</th>\n",
       "      <th>ResNet50</th>\n",
       "      <th>Xecption</th>\n",
       "    </tr>\n",
       "  </thead>\n",
       "  <tbody>\n",
       "    <tr>\n",
       "      <th>0</th>\n",
       "      <td>0.0525</td>\n",
       "      <td>0.0179</td>\n",
       "      <td>0.009400</td>\n",
       "      <td>1.1707</td>\n",
       "      <td>0.165947</td>\n",
       "    </tr>\n",
       "    <tr>\n",
       "      <th>1</th>\n",
       "      <td>0.0082</td>\n",
       "      <td>0.0143</td>\n",
       "      <td>0.002000</td>\n",
       "      <td>0.5699</td>\n",
       "      <td>0.031580</td>\n",
       "    </tr>\n",
       "    <tr>\n",
       "      <th>2</th>\n",
       "      <td>0.0068</td>\n",
       "      <td>0.0024</td>\n",
       "      <td>0.000932</td>\n",
       "      <td>0.1792</td>\n",
       "      <td>0.016962</td>\n",
       "    </tr>\n",
       "    <tr>\n",
       "      <th>3</th>\n",
       "      <td>0.0066</td>\n",
       "      <td>0.0080</td>\n",
       "      <td>0.000266</td>\n",
       "      <td>0.1660</td>\n",
       "      <td>0.011886</td>\n",
       "    </tr>\n",
       "    <tr>\n",
       "      <th>4</th>\n",
       "      <td>0.0049</td>\n",
       "      <td>0.0096</td>\n",
       "      <td>0.000309</td>\n",
       "      <td>0.1199</td>\n",
       "      <td>0.011070</td>\n",
       "    </tr>\n",
       "    <tr>\n",
       "      <th>5</th>\n",
       "      <td>0.0052</td>\n",
       "      <td>0.0185</td>\n",
       "      <td>0.000201</td>\n",
       "      <td>0.1372</td>\n",
       "      <td>0.009061</td>\n",
       "    </tr>\n",
       "    <tr>\n",
       "      <th>6</th>\n",
       "      <td>0.0047</td>\n",
       "      <td>0.0051</td>\n",
       "      <td>0.000255</td>\n",
       "      <td>0.1152</td>\n",
       "      <td>0.008440</td>\n",
       "    </tr>\n",
       "  </tbody>\n",
       "</table>\n",
       "</div>"
      ],
      "text/plain": [
       "   SimpleCNN  ComplexCNN  DenseNet121  ResNet50  Xecption\n",
       "0     0.0525      0.0179     0.009400    1.1707  0.165947\n",
       "1     0.0082      0.0143     0.002000    0.5699  0.031580\n",
       "2     0.0068      0.0024     0.000932    0.1792  0.016962\n",
       "3     0.0066      0.0080     0.000266    0.1660  0.011886\n",
       "4     0.0049      0.0096     0.000309    0.1199  0.011070\n",
       "5     0.0052      0.0185     0.000201    0.1372  0.009061\n",
       "6     0.0047      0.0051     0.000255    0.1152  0.008440"
      ]
     },
     "execution_count": 98,
     "metadata": {},
     "output_type": "execute_result"
    }
   ],
   "source": [
    "df1"
   ]
  },
  {
   "cell_type": "code",
   "execution_count": 106,
   "metadata": {},
   "outputs": [
    {
     "data": {
      "text/plain": [
       "<matplotlib.legend.Legend at 0x7f89d1773f10>"
      ]
     },
     "execution_count": 106,
     "metadata": {},
     "output_type": "execute_result"
    },
    {
     "data": {
      "image/png": "[encoded data removed]",
      "text/plain": [
       "<Figure size 720x360 with 1 Axes>"
      ]
     },
     "metadata": {},
     "output_type": "display_data"
    }
   ],
   "source": [
    "sns.set_style(\"white\")\n",
    "fig, ax = plt.subplots(figsize=(10,5))\n",
    "plt.plot(df1.index, df1.SimpleCNN, \"o-\", ms=3,\n",
    "            color=\"r\", label='SimpleCNN')\n",
    "plt.plot(df1.index, df1.ComplexCNN, \"o-\", ms=3,\n",
    "            color=\"g\", label='ComplexCNN')\n",
    "plt.plot(df1.index, df1.DenseNet121, \"o-\", ms=3,\n",
    "            color=\"blue\", label='DenseNet121')\n",
    "plt.plot(df1.index, df1.ResNet50, \"o-\", ms=3,\n",
    "            color=\"orange\", label='ResNet50')\n",
    "plt.plot(df1.index, df1.Xecption, \"o-\", ms=3,\n",
    "            color=\"yellow\", label='Xception')\n",
    "ax.legend()"
   ]
  },
  {
   "cell_type": "code",
   "execution_count": null,
   "metadata": {},
   "outputs": [],
   "source": []
  }
 ],
 "metadata": {
  "kernelspec": {
   "display_name": "Python 3",
   "language": "python",
   "name": "python3"
  },
  "language_info": {
   "codemirror_mode": {
    "name": "ipython",
    "version": 3
   },
   "file_extension": ".py",
   "mimetype": "text/x-python",
   "name": "python",
   "nbconvert_exporter": "python",
   "pygments_lexer": "ipython3",
   "version": "3.7.6"
  }
 },
 "nbformat": 4,
 "nbformat_minor": 4
}
